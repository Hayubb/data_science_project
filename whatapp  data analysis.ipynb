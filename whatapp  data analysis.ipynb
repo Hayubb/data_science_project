{
 "cells": [
  {
   "cell_type": "code",
   "execution_count": 1,
   "id": "8594c25b",
   "metadata": {},
   "outputs": [],
   "source": [
    "import matplotlib.pyplot as plt\n",
    "import numpy as np\n",
    "import matplotlib as mpl\n",
    "import numpy as np\n",
    "%matplotlib inline\n",
    "from mpl_toolkits.mplot3d import Axes3D\n",
    "import pandas as pd\n",
    "import warnings\n",
    "warnings.filterwarnings('ignore')\n",
    "import seaborn as sns"
   ]
  },
  {
   "cell_type": "code",
   "execution_count": 2,
   "id": "b51e69b1",
   "metadata": {},
   "outputs": [],
   "source": [
    "whatapp=pd.read_csv(r\"C:\\Users\\ayub_\\AppData\\Local\\Temp\\Temp1_archive.zip\\Whatsapp_chat.csv\")"
   ]
  },
  {
   "cell_type": "code",
   "execution_count": 3,
   "id": "92006fd1",
   "metadata": {},
   "outputs": [
    {
     "data": {
      "text/html": [
       "<div>\n",
       "<style scoped>\n",
       "    .dataframe tbody tr th:only-of-type {\n",
       "        vertical-align: middle;\n",
       "    }\n",
       "\n",
       "    .dataframe tbody tr th {\n",
       "        vertical-align: top;\n",
       "    }\n",
       "\n",
       "    .dataframe thead th {\n",
       "        text-align: right;\n",
       "    }\n",
       "</style>\n",
       "<table border=\"1\" class=\"dataframe\">\n",
       "  <thead>\n",
       "    <tr style=\"text-align: right;\">\n",
       "      <th></th>\n",
       "      <th>Unnamed: 0</th>\n",
       "      <th>hours</th>\n",
       "      <th>days</th>\n",
       "      <th>months</th>\n",
       "      <th>names</th>\n",
       "      <th>timestamp</th>\n",
       "    </tr>\n",
       "  </thead>\n",
       "  <tbody>\n",
       "    <tr>\n",
       "      <th>0</th>\n",
       "      <td>0</td>\n",
       "      <td>1</td>\n",
       "      <td>19</td>\n",
       "      <td>May</td>\n",
       "      <td>Person4</td>\n",
       "      <td>2020-05-19</td>\n",
       "    </tr>\n",
       "    <tr>\n",
       "      <th>1</th>\n",
       "      <td>1</td>\n",
       "      <td>22</td>\n",
       "      <td>19</td>\n",
       "      <td>May</td>\n",
       "      <td>Person3</td>\n",
       "      <td>2020-05-19</td>\n",
       "    </tr>\n",
       "    <tr>\n",
       "      <th>2</th>\n",
       "      <td>2</td>\n",
       "      <td>22</td>\n",
       "      <td>19</td>\n",
       "      <td>May</td>\n",
       "      <td>Person3</td>\n",
       "      <td>2020-05-19</td>\n",
       "    </tr>\n",
       "    <tr>\n",
       "      <th>3</th>\n",
       "      <td>3</td>\n",
       "      <td>22</td>\n",
       "      <td>19</td>\n",
       "      <td>May</td>\n",
       "      <td>Person1</td>\n",
       "      <td>2020-05-19</td>\n",
       "    </tr>\n",
       "    <tr>\n",
       "      <th>4</th>\n",
       "      <td>4</td>\n",
       "      <td>22</td>\n",
       "      <td>19</td>\n",
       "      <td>May</td>\n",
       "      <td>Person3</td>\n",
       "      <td>2020-05-19</td>\n",
       "    </tr>\n",
       "  </tbody>\n",
       "</table>\n",
       "</div>"
      ],
      "text/plain": [
       "   Unnamed: 0  hours  days months    names   timestamp\n",
       "0           0      1    19    May  Person4  2020-05-19\n",
       "1           1     22    19    May  Person3  2020-05-19\n",
       "2           2     22    19    May  Person3  2020-05-19\n",
       "3           3     22    19    May  Person1  2020-05-19\n",
       "4           4     22    19    May  Person3  2020-05-19"
      ]
     },
     "execution_count": 3,
     "metadata": {},
     "output_type": "execute_result"
    }
   ],
   "source": [
    "whatapp.head()"
   ]
  },
  {
   "cell_type": "code",
   "execution_count": 4,
   "id": "15bf864d",
   "metadata": {},
   "outputs": [],
   "source": [
    "whatapp.drop(columns=\"Unnamed: 0\",inplace=True)"
   ]
  },
  {
   "cell_type": "code",
   "execution_count": 5,
   "id": "0ce08c43",
   "metadata": {},
   "outputs": [
    {
     "data": {
      "text/html": [
       "<div>\n",
       "<style scoped>\n",
       "    .dataframe tbody tr th:only-of-type {\n",
       "        vertical-align: middle;\n",
       "    }\n",
       "\n",
       "    .dataframe tbody tr th {\n",
       "        vertical-align: top;\n",
       "    }\n",
       "\n",
       "    .dataframe thead th {\n",
       "        text-align: right;\n",
       "    }\n",
       "</style>\n",
       "<table border=\"1\" class=\"dataframe\">\n",
       "  <thead>\n",
       "    <tr style=\"text-align: right;\">\n",
       "      <th></th>\n",
       "      <th>hours</th>\n",
       "      <th>days</th>\n",
       "      <th>months</th>\n",
       "      <th>names</th>\n",
       "      <th>timestamp</th>\n",
       "    </tr>\n",
       "  </thead>\n",
       "  <tbody>\n",
       "    <tr>\n",
       "      <th>0</th>\n",
       "      <td>1</td>\n",
       "      <td>19</td>\n",
       "      <td>May</td>\n",
       "      <td>Person4</td>\n",
       "      <td>2020-05-19</td>\n",
       "    </tr>\n",
       "    <tr>\n",
       "      <th>1</th>\n",
       "      <td>22</td>\n",
       "      <td>19</td>\n",
       "      <td>May</td>\n",
       "      <td>Person3</td>\n",
       "      <td>2020-05-19</td>\n",
       "    </tr>\n",
       "    <tr>\n",
       "      <th>2</th>\n",
       "      <td>22</td>\n",
       "      <td>19</td>\n",
       "      <td>May</td>\n",
       "      <td>Person3</td>\n",
       "      <td>2020-05-19</td>\n",
       "    </tr>\n",
       "    <tr>\n",
       "      <th>3</th>\n",
       "      <td>22</td>\n",
       "      <td>19</td>\n",
       "      <td>May</td>\n",
       "      <td>Person1</td>\n",
       "      <td>2020-05-19</td>\n",
       "    </tr>\n",
       "    <tr>\n",
       "      <th>4</th>\n",
       "      <td>22</td>\n",
       "      <td>19</td>\n",
       "      <td>May</td>\n",
       "      <td>Person3</td>\n",
       "      <td>2020-05-19</td>\n",
       "    </tr>\n",
       "  </tbody>\n",
       "</table>\n",
       "</div>"
      ],
      "text/plain": [
       "   hours  days months    names   timestamp\n",
       "0      1    19    May  Person4  2020-05-19\n",
       "1     22    19    May  Person3  2020-05-19\n",
       "2     22    19    May  Person3  2020-05-19\n",
       "3     22    19    May  Person1  2020-05-19\n",
       "4     22    19    May  Person3  2020-05-19"
      ]
     },
     "execution_count": 5,
     "metadata": {},
     "output_type": "execute_result"
    }
   ],
   "source": [
    "whatapp.head()"
   ]
  },
  {
   "cell_type": "code",
   "execution_count": 6,
   "id": "2c654fb0",
   "metadata": {},
   "outputs": [
    {
     "name": "stdout",
     "output_type": "stream",
     "text": [
      "<class 'pandas.core.frame.DataFrame'>\n",
      "RangeIndex: 51575 entries, 0 to 51574\n",
      "Data columns (total 5 columns):\n",
      " #   Column     Non-Null Count  Dtype \n",
      "---  ------     --------------  ----- \n",
      " 0   hours      51575 non-null  int64 \n",
      " 1   days       51575 non-null  int64 \n",
      " 2   months     51575 non-null  object\n",
      " 3   names      51575 non-null  object\n",
      " 4   timestamp  51575 non-null  object\n",
      "dtypes: int64(2), object(3)\n",
      "memory usage: 2.0+ MB\n"
     ]
    }
   ],
   "source": [
    "whatapp.info()"
   ]
  },
  {
   "cell_type": "code",
   "execution_count": 7,
   "id": "6da630f6",
   "metadata": {},
   "outputs": [],
   "source": [
    "whatapp[\"timestamp\"]=pd.to_datetime(whatapp[\"timestamp\"])"
   ]
  },
  {
   "cell_type": "code",
   "execution_count": 8,
   "id": "535271b7",
   "metadata": {},
   "outputs": [
    {
     "data": {
      "text/plain": [
       "dtype('<M8[ns]')"
      ]
     },
     "execution_count": 8,
     "metadata": {},
     "output_type": "execute_result"
    }
   ],
   "source": [
    "whatapp[\"timestamp\"].dtypes"
   ]
  },
  {
   "cell_type": "code",
   "execution_count": 9,
   "id": "917fd25c",
   "metadata": {},
   "outputs": [
    {
     "data": {
      "text/plain": [
       "Person1    17543\n",
       "Person4    16683\n",
       "Person3    13514\n",
       "Person2     3835\n",
       "Name: names, dtype: int64"
      ]
     },
     "execution_count": 9,
     "metadata": {},
     "output_type": "execute_result"
    }
   ],
   "source": [
    "count=whatapp[\"names\"].value_counts()\n",
    "count"
   ]
  },
  {
   "cell_type": "code",
   "execution_count": 13,
   "id": "014f76f3",
   "metadata": {},
   "outputs": [
    {
     "data": {
      "text/plain": [
       "Text(0.5, 1.0, 'WHATAPP USAGE')"
      ]
     },
     "execution_count": 13,
     "metadata": {},
     "output_type": "execute_result"
    },
    {
     "data": {
      "image/png": "[encoded data removed]",
      "text/plain": [
       "<Figure size 748.8x514.8 with 1 Axes>"
      ]
     },
     "metadata": {},
     "output_type": "display_data"
    }
   ],
   "source": [
    "plt.style.use(\"dark_background\")\n",
    "count.plot.pie(autopct='%.2f%%')\n",
    "plt.title(\"WHATAPP USAGE\")"
   ]
  },
  {
   "cell_type": "code",
   "execution_count": 14,
   "id": "848c4670",
   "metadata": {},
   "outputs": [
    {
     "data": {
      "text/plain": [
       "Index(['May', 'August', 'June', 'July'], dtype='object')"
      ]
     },
     "execution_count": 14,
     "metadata": {},
     "output_type": "execute_result"
    }
   ],
   "source": [
    "sort=whatapp[\"months\"].value_counts().sort_values(ascending=True).index\n",
    "sort"
   ]
  },
  {
   "cell_type": "code",
   "execution_count": 15,
   "id": "3c025efe",
   "metadata": {},
   "outputs": [
    {
     "data": {
      "text/plain": [
       "[Text(0.5, 1.0, 'Monthly Whatapp Usage')]"
      ]
     },
     "execution_count": 15,
     "metadata": {},
     "output_type": "execute_result"
    },
    {
     "data": {
      "image/png": "[encoded data removed]",
      "text/plain": [
       "<Figure size 748.8x514.8 with 1 Axes>"
      ]
     },
     "metadata": {},
     "output_type": "display_data"
    }
   ],
   "source": [
    "sns.countplot(whatapp[\"months\"],hue=whatapp[\"names\"],order=sort).set(title=\"Monthly Whatapp Usage\")"
   ]
  },
  {
   "cell_type": "code",
   "execution_count": 16,
   "id": "b3afd5dc",
   "metadata": {},
   "outputs": [
    {
     "data": {
      "text/plain": [
       "Int64Index([ 6,  7,  8,  9,  5,  4, 10, 11, 12, 14, 21,  3, 13, 15, 22, 16, 19,\n",
       "            18, 17, 20, 23,  0,  2,  1],\n",
       "           dtype='int64')"
      ]
     },
     "execution_count": 16,
     "metadata": {},
     "output_type": "execute_result"
    }
   ],
   "source": [
    "sorts=whatapp[\"hours\"].value_counts().sort_values(ascending=True).index\n",
    "sorts"
   ]
  },
  {
   "cell_type": "code",
   "execution_count": 17,
   "id": "0b6a94d7",
   "metadata": {},
   "outputs": [
    {
     "data": {
      "text/plain": [
       "Text(0.5, 1.0, 'Plotting Activation Of Peaople Per Hour')"
      ]
     },
     "execution_count": 17,
     "metadata": {},
     "output_type": "execute_result"
    },
    {
     "data": {
      "image/png": "[encoded data removed]",
      "text/plain": [
       "<Figure size 1008x576 with 1 Axes>"
      ]
     },
     "metadata": {},
     "output_type": "display_data"
    }
   ],
   "source": [
    "plt.figure(figsize=(14,8))\n",
    "sns.countplot(whatapp[\"hours\"],hue=whatapp[\"names\"],order=sorts)\n",
    "plt.title(\"Plotting Activation Of Peaople Per Hour\")"
   ]
  },
  {
   "cell_type": "code",
   "execution_count": 18,
   "id": "7a4f74a6",
   "metadata": {},
   "outputs": [
    {
     "data": {
      "text/html": [
       "<div>\n",
       "<style scoped>\n",
       "    .dataframe tbody tr th:only-of-type {\n",
       "        vertical-align: middle;\n",
       "    }\n",
       "\n",
       "    .dataframe tbody tr th {\n",
       "        vertical-align: top;\n",
       "    }\n",
       "\n",
       "    .dataframe thead th {\n",
       "        text-align: right;\n",
       "    }\n",
       "</style>\n",
       "<table border=\"1\" class=\"dataframe\">\n",
       "  <thead>\n",
       "    <tr style=\"text-align: right;\">\n",
       "      <th></th>\n",
       "      <th>hours</th>\n",
       "      <th>days</th>\n",
       "      <th>months</th>\n",
       "      <th>names</th>\n",
       "      <th>timestamp</th>\n",
       "    </tr>\n",
       "  </thead>\n",
       "  <tbody>\n",
       "    <tr>\n",
       "      <th>3</th>\n",
       "      <td>22</td>\n",
       "      <td>19</td>\n",
       "      <td>May</td>\n",
       "      <td>Person1</td>\n",
       "      <td>2020-05-19</td>\n",
       "    </tr>\n",
       "    <tr>\n",
       "      <th>5</th>\n",
       "      <td>22</td>\n",
       "      <td>19</td>\n",
       "      <td>May</td>\n",
       "      <td>Person1</td>\n",
       "      <td>2020-05-19</td>\n",
       "    </tr>\n",
       "    <tr>\n",
       "      <th>6</th>\n",
       "      <td>22</td>\n",
       "      <td>19</td>\n",
       "      <td>May</td>\n",
       "      <td>Person1</td>\n",
       "      <td>2020-05-19</td>\n",
       "    </tr>\n",
       "    <tr>\n",
       "      <th>7</th>\n",
       "      <td>23</td>\n",
       "      <td>19</td>\n",
       "      <td>May</td>\n",
       "      <td>Person1</td>\n",
       "      <td>2020-05-19</td>\n",
       "    </tr>\n",
       "    <tr>\n",
       "      <th>8</th>\n",
       "      <td>23</td>\n",
       "      <td>19</td>\n",
       "      <td>May</td>\n",
       "      <td>Person1</td>\n",
       "      <td>2020-05-19</td>\n",
       "    </tr>\n",
       "    <tr>\n",
       "      <th>...</th>\n",
       "      <td>...</td>\n",
       "      <td>...</td>\n",
       "      <td>...</td>\n",
       "      <td>...</td>\n",
       "      <td>...</td>\n",
       "    </tr>\n",
       "    <tr>\n",
       "      <th>51568</th>\n",
       "      <td>19</td>\n",
       "      <td>12</td>\n",
       "      <td>August</td>\n",
       "      <td>Person1</td>\n",
       "      <td>2020-08-12</td>\n",
       "    </tr>\n",
       "    <tr>\n",
       "      <th>51569</th>\n",
       "      <td>19</td>\n",
       "      <td>12</td>\n",
       "      <td>August</td>\n",
       "      <td>Person1</td>\n",
       "      <td>2020-08-12</td>\n",
       "    </tr>\n",
       "    <tr>\n",
       "      <th>51571</th>\n",
       "      <td>19</td>\n",
       "      <td>12</td>\n",
       "      <td>August</td>\n",
       "      <td>Person1</td>\n",
       "      <td>2020-08-12</td>\n",
       "    </tr>\n",
       "    <tr>\n",
       "      <th>51573</th>\n",
       "      <td>21</td>\n",
       "      <td>12</td>\n",
       "      <td>August</td>\n",
       "      <td>Person1</td>\n",
       "      <td>2020-08-12</td>\n",
       "    </tr>\n",
       "    <tr>\n",
       "      <th>51574</th>\n",
       "      <td>21</td>\n",
       "      <td>12</td>\n",
       "      <td>August</td>\n",
       "      <td>Person1</td>\n",
       "      <td>2020-08-12</td>\n",
       "    </tr>\n",
       "  </tbody>\n",
       "</table>\n",
       "<p>17543 rows × 5 columns</p>\n",
       "</div>"
      ],
      "text/plain": [
       "       hours  days  months    names  timestamp\n",
       "3         22    19     May  Person1 2020-05-19\n",
       "5         22    19     May  Person1 2020-05-19\n",
       "6         22    19     May  Person1 2020-05-19\n",
       "7         23    19     May  Person1 2020-05-19\n",
       "8         23    19     May  Person1 2020-05-19\n",
       "...      ...   ...     ...      ...        ...\n",
       "51568     19    12  August  Person1 2020-08-12\n",
       "51569     19    12  August  Person1 2020-08-12\n",
       "51571     19    12  August  Person1 2020-08-12\n",
       "51573     21    12  August  Person1 2020-08-12\n",
       "51574     21    12  August  Person1 2020-08-12\n",
       "\n",
       "[17543 rows x 5 columns]"
      ]
     },
     "execution_count": 18,
     "metadata": {},
     "output_type": "execute_result"
    }
   ],
   "source": [
    "whatapp[whatapp.names==\"Person1\"]"
   ]
  },
  {
   "cell_type": "code",
   "execution_count": 19,
   "id": "a1d0e594",
   "metadata": {},
   "outputs": [
    {
     "data": {
      "text/html": [
       "<div>\n",
       "<style scoped>\n",
       "    .dataframe tbody tr th:only-of-type {\n",
       "        vertical-align: middle;\n",
       "    }\n",
       "\n",
       "    .dataframe tbody tr th {\n",
       "        vertical-align: top;\n",
       "    }\n",
       "\n",
       "    .dataframe thead th {\n",
       "        text-align: right;\n",
       "    }\n",
       "</style>\n",
       "<table border=\"1\" class=\"dataframe\">\n",
       "  <thead>\n",
       "    <tr style=\"text-align: right;\">\n",
       "      <th></th>\n",
       "      <th>hours</th>\n",
       "      <th>days</th>\n",
       "      <th>months</th>\n",
       "      <th>names</th>\n",
       "      <th>timestamp</th>\n",
       "      <th>days_week</th>\n",
       "    </tr>\n",
       "  </thead>\n",
       "  <tbody>\n",
       "    <tr>\n",
       "      <th>0</th>\n",
       "      <td>1</td>\n",
       "      <td>19</td>\n",
       "      <td>May</td>\n",
       "      <td>Person4</td>\n",
       "      <td>2020-05-19</td>\n",
       "      <td>Tuesday</td>\n",
       "    </tr>\n",
       "    <tr>\n",
       "      <th>1</th>\n",
       "      <td>22</td>\n",
       "      <td>19</td>\n",
       "      <td>May</td>\n",
       "      <td>Person3</td>\n",
       "      <td>2020-05-19</td>\n",
       "      <td>Tuesday</td>\n",
       "    </tr>\n",
       "    <tr>\n",
       "      <th>2</th>\n",
       "      <td>22</td>\n",
       "      <td>19</td>\n",
       "      <td>May</td>\n",
       "      <td>Person3</td>\n",
       "      <td>2020-05-19</td>\n",
       "      <td>Tuesday</td>\n",
       "    </tr>\n",
       "    <tr>\n",
       "      <th>3</th>\n",
       "      <td>22</td>\n",
       "      <td>19</td>\n",
       "      <td>May</td>\n",
       "      <td>Person1</td>\n",
       "      <td>2020-05-19</td>\n",
       "      <td>Tuesday</td>\n",
       "    </tr>\n",
       "    <tr>\n",
       "      <th>4</th>\n",
       "      <td>22</td>\n",
       "      <td>19</td>\n",
       "      <td>May</td>\n",
       "      <td>Person3</td>\n",
       "      <td>2020-05-19</td>\n",
       "      <td>Tuesday</td>\n",
       "    </tr>\n",
       "  </tbody>\n",
       "</table>\n",
       "</div>"
      ],
      "text/plain": [
       "   hours  days months    names  timestamp days_week\n",
       "0      1    19    May  Person4 2020-05-19   Tuesday\n",
       "1     22    19    May  Person3 2020-05-19   Tuesday\n",
       "2     22    19    May  Person3 2020-05-19   Tuesday\n",
       "3     22    19    May  Person1 2020-05-19   Tuesday\n",
       "4     22    19    May  Person3 2020-05-19   Tuesday"
      ]
     },
     "execution_count": 19,
     "metadata": {},
     "output_type": "execute_result"
    }
   ],
   "source": [
    "whatapp[\"days_week\"]=whatapp[\"timestamp\"].dt.day_name()\n",
    "whatapp.head()"
   ]
  },
  {
   "cell_type": "code",
   "execution_count": 20,
   "id": "2fdd4c12",
   "metadata": {},
   "outputs": [
    {
     "data": {
      "text/plain": [
       "Index(['Wednesday', 'Thursday', 'Sunday', 'Friday', 'Saturday', 'Tuesday',\n",
       "       'Monday'],\n",
       "      dtype='object')"
      ]
     },
     "execution_count": 20,
     "metadata": {},
     "output_type": "execute_result"
    }
   ],
   "source": [
    "clue=whatapp[\"days_week\"].value_counts().sort_values().index\n",
    "clue"
   ]
  },
  {
   "cell_type": "code",
   "execution_count": 21,
   "id": "c17d554b",
   "metadata": {},
   "outputs": [
    {
     "data": {
      "text/plain": [
       "Text(0.5, 1.0, 'Plotting Activation per day of week')"
      ]
     },
     "execution_count": 21,
     "metadata": {},
     "output_type": "execute_result"
    },
    {
     "data": {
      "image/png": "[encoded data removed]",
      "text/plain": [
       "<Figure size 1008x576 with 1 Axes>"
      ]
     },
     "metadata": {},
     "output_type": "display_data"
    }
   ],
   "source": [
    "plt.figure(figsize=(14,8))\n",
    "sns.countplot(whatapp[\"days_week\"],hue=whatapp[\"names\"],order=clue)\n",
    "plt.title(\"Plotting Activation per day of week\")"
   ]
  },
  {
   "cell_type": "code",
   "execution_count": null,
   "id": "28148aa4",
   "metadata": {},
   "outputs": [],
   "source": []
  }
 ],
 "metadata": {
  "kernelspec": {
   "display_name": "Python 3 (ipykernel)",
   "language": "python",
   "name": "python3"
  },
  "language_info": {
   "codemirror_mode": {
    "name": "ipython",
    "version": 3
   },
   "file_extension": ".py",
   "mimetype": "text/x-python",
   "name": "python",
   "nbconvert_exporter": "python",
   "pygments_lexer": "ipython3",
   "version": "3.9.12"
  }
 },
 "nbformat": 4,
 "nbformat_minor": 5
}
