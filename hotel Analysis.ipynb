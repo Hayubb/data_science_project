{
 "cells": [
  {
   "cell_type": "code",
   "execution_count": 13,
   "id": "74a6379a",
   "metadata": {},
   "outputs": [],
   "source": [
    "import pandas as pd\n",
    "import matplotlib.pyplot as plt"
   ]
  },
  {
   "cell_type": "code",
   "execution_count": 2,
   "id": "71c7c2b7",
   "metadata": {},
   "outputs": [],
   "source": [
    "df=pd.read_excel(r\"C:\\Users\\USER\\Downloads\\hotel_revenue_historical_full.xlsx\")"
   ]
  },
  {
   "cell_type": "code",
   "execution_count": 34,
   "id": "1d564b4b",
   "metadata": {},
   "outputs": [
    {
     "data": {
      "text/html": [
       "<div>\n",
       "<style scoped>\n",
       "    .dataframe tbody tr th:only-of-type {\n",
       "        vertical-align: middle;\n",
       "    }\n",
       "\n",
       "    .dataframe tbody tr th {\n",
       "        vertical-align: top;\n",
       "    }\n",
       "\n",
       "    .dataframe thead th {\n",
       "        text-align: right;\n",
       "    }\n",
       "</style>\n",
       "<table border=\"1\" class=\"dataframe\">\n",
       "  <thead>\n",
       "    <tr style=\"text-align: right;\">\n",
       "      <th></th>\n",
       "      <th>hotel</th>\n",
       "      <th>is_canceled</th>\n",
       "      <th>lead_time</th>\n",
       "      <th>arrival_date_year</th>\n",
       "      <th>arrival_date_month</th>\n",
       "      <th>arrival_date_week_number</th>\n",
       "      <th>arrival_date_day_of_month</th>\n",
       "      <th>stays_in_weekend_nights</th>\n",
       "      <th>stays_in_week_nights</th>\n",
       "      <th>adults</th>\n",
       "      <th>...</th>\n",
       "      <th>deposit_type</th>\n",
       "      <th>agent</th>\n",
       "      <th>company</th>\n",
       "      <th>days_in_waiting_list</th>\n",
       "      <th>customer_type</th>\n",
       "      <th>adr</th>\n",
       "      <th>required_car_parking_spaces</th>\n",
       "      <th>total_of_special_requests</th>\n",
       "      <th>reservation_status</th>\n",
       "      <th>reservation_status_date</th>\n",
       "    </tr>\n",
       "  </thead>\n",
       "  <tbody>\n",
       "    <tr>\n",
       "      <th>0</th>\n",
       "      <td>Resort Hotel</td>\n",
       "      <td>1</td>\n",
       "      <td>85</td>\n",
       "      <td>2018</td>\n",
       "      <td>July</td>\n",
       "      <td>27</td>\n",
       "      <td>1</td>\n",
       "      <td>0</td>\n",
       "      <td>3</td>\n",
       "      <td>2</td>\n",
       "      <td>...</td>\n",
       "      <td>No Deposit</td>\n",
       "      <td>240.0</td>\n",
       "      <td>NaN</td>\n",
       "      <td>0</td>\n",
       "      <td>Transient</td>\n",
       "      <td>82.0</td>\n",
       "      <td>0</td>\n",
       "      <td>1</td>\n",
       "      <td>Canceled</td>\n",
       "      <td>2018-05-06</td>\n",
       "    </tr>\n",
       "    <tr>\n",
       "      <th>1</th>\n",
       "      <td>Resort Hotel</td>\n",
       "      <td>1</td>\n",
       "      <td>75</td>\n",
       "      <td>2018</td>\n",
       "      <td>July</td>\n",
       "      <td>27</td>\n",
       "      <td>1</td>\n",
       "      <td>0</td>\n",
       "      <td>3</td>\n",
       "      <td>2</td>\n",
       "      <td>...</td>\n",
       "      <td>No Deposit</td>\n",
       "      <td>15.0</td>\n",
       "      <td>NaN</td>\n",
       "      <td>0</td>\n",
       "      <td>Transient</td>\n",
       "      <td>105.5</td>\n",
       "      <td>0</td>\n",
       "      <td>0</td>\n",
       "      <td>Canceled</td>\n",
       "      <td>2018-04-22</td>\n",
       "    </tr>\n",
       "    <tr>\n",
       "      <th>2</th>\n",
       "      <td>Resort Hotel</td>\n",
       "      <td>1</td>\n",
       "      <td>23</td>\n",
       "      <td>2018</td>\n",
       "      <td>July</td>\n",
       "      <td>27</td>\n",
       "      <td>1</td>\n",
       "      <td>0</td>\n",
       "      <td>4</td>\n",
       "      <td>2</td>\n",
       "      <td>...</td>\n",
       "      <td>No Deposit</td>\n",
       "      <td>240.0</td>\n",
       "      <td>NaN</td>\n",
       "      <td>0</td>\n",
       "      <td>Transient</td>\n",
       "      <td>123.0</td>\n",
       "      <td>0</td>\n",
       "      <td>0</td>\n",
       "      <td>Canceled</td>\n",
       "      <td>2018-06-23</td>\n",
       "    </tr>\n",
       "    <tr>\n",
       "      <th>3</th>\n",
       "      <td>Resort Hotel</td>\n",
       "      <td>1</td>\n",
       "      <td>60</td>\n",
       "      <td>2018</td>\n",
       "      <td>July</td>\n",
       "      <td>27</td>\n",
       "      <td>1</td>\n",
       "      <td>2</td>\n",
       "      <td>5</td>\n",
       "      <td>2</td>\n",
       "      <td>...</td>\n",
       "      <td>No Deposit</td>\n",
       "      <td>240.0</td>\n",
       "      <td>NaN</td>\n",
       "      <td>0</td>\n",
       "      <td>Transient</td>\n",
       "      <td>107.0</td>\n",
       "      <td>0</td>\n",
       "      <td>2</td>\n",
       "      <td>Canceled</td>\n",
       "      <td>2018-05-11</td>\n",
       "    </tr>\n",
       "    <tr>\n",
       "      <th>4</th>\n",
       "      <td>Resort Hotel</td>\n",
       "      <td>1</td>\n",
       "      <td>96</td>\n",
       "      <td>2018</td>\n",
       "      <td>July</td>\n",
       "      <td>27</td>\n",
       "      <td>1</td>\n",
       "      <td>2</td>\n",
       "      <td>8</td>\n",
       "      <td>2</td>\n",
       "      <td>...</td>\n",
       "      <td>No Deposit</td>\n",
       "      <td>NaN</td>\n",
       "      <td>NaN</td>\n",
       "      <td>0</td>\n",
       "      <td>Transient</td>\n",
       "      <td>108.3</td>\n",
       "      <td>0</td>\n",
       "      <td>2</td>\n",
       "      <td>Canceled</td>\n",
       "      <td>2018-05-29</td>\n",
       "    </tr>\n",
       "  </tbody>\n",
       "</table>\n",
       "<p>5 rows × 32 columns</p>\n",
       "</div>"
      ],
      "text/plain": [
       "          hotel  is_canceled  lead_time  arrival_date_year arrival_date_month  \\\n",
       "0  Resort Hotel            1         85               2018               July   \n",
       "1  Resort Hotel            1         75               2018               July   \n",
       "2  Resort Hotel            1         23               2018               July   \n",
       "3  Resort Hotel            1         60               2018               July   \n",
       "4  Resort Hotel            1         96               2018               July   \n",
       "\n",
       "   arrival_date_week_number  arrival_date_day_of_month  \\\n",
       "0                        27                          1   \n",
       "1                        27                          1   \n",
       "2                        27                          1   \n",
       "3                        27                          1   \n",
       "4                        27                          1   \n",
       "\n",
       "   stays_in_weekend_nights  stays_in_week_nights  adults  ...  deposit_type  \\\n",
       "0                        0                     3       2  ...    No Deposit   \n",
       "1                        0                     3       2  ...    No Deposit   \n",
       "2                        0                     4       2  ...    No Deposit   \n",
       "3                        2                     5       2  ...    No Deposit   \n",
       "4                        2                     8       2  ...    No Deposit   \n",
       "\n",
       "   agent company days_in_waiting_list customer_type    adr  \\\n",
       "0  240.0     NaN                    0     Transient   82.0   \n",
       "1   15.0     NaN                    0     Transient  105.5   \n",
       "2  240.0     NaN                    0     Transient  123.0   \n",
       "3  240.0     NaN                    0     Transient  107.0   \n",
       "4    NaN     NaN                    0     Transient  108.3   \n",
       "\n",
       "   required_car_parking_spaces  total_of_special_requests  reservation_status  \\\n",
       "0                            0                          1            Canceled   \n",
       "1                            0                          0            Canceled   \n",
       "2                            0                          0            Canceled   \n",
       "3                            0                          2            Canceled   \n",
       "4                            0                          2            Canceled   \n",
       "\n",
       "  reservation_status_date  \n",
       "0              2018-05-06  \n",
       "1              2018-04-22  \n",
       "2              2018-06-23  \n",
       "3              2018-05-11  \n",
       "4              2018-05-29  \n",
       "\n",
       "[5 rows x 32 columns]"
      ]
     },
     "execution_count": 34,
     "metadata": {},
     "output_type": "execute_result"
    }
   ],
   "source": [
    "df.head()"
   ]
  },
  {
   "cell_type": "code",
   "execution_count": 4,
   "id": "c969b1a8",
   "metadata": {},
   "outputs": [
    {
     "name": "stdout",
     "output_type": "stream",
     "text": [
      "<class 'pandas.core.frame.DataFrame'>\n",
      "RangeIndex: 21996 entries, 0 to 21995\n",
      "Data columns (total 32 columns):\n",
      " #   Column                          Non-Null Count  Dtype         \n",
      "---  ------                          --------------  -----         \n",
      " 0   hotel                           21996 non-null  object        \n",
      " 1   is_canceled                     21996 non-null  int64         \n",
      " 2   lead_time                       21996 non-null  int64         \n",
      " 3   arrival_date_year               21996 non-null  int64         \n",
      " 4   arrival_date_month              21996 non-null  object        \n",
      " 5   arrival_date_week_number        21996 non-null  int64         \n",
      " 6   arrival_date_day_of_month       21996 non-null  int64         \n",
      " 7   stays_in_weekend_nights         21996 non-null  int64         \n",
      " 8   stays_in_week_nights            21996 non-null  int64         \n",
      " 9   adults                          21996 non-null  int64         \n",
      " 10  children                        21992 non-null  float64       \n",
      " 11  babies                          21996 non-null  int64         \n",
      " 12  meal                            21996 non-null  object        \n",
      " 13  country                         21863 non-null  object        \n",
      " 14  market_segment                  21996 non-null  object        \n",
      " 15  distribution_channel            21996 non-null  object        \n",
      " 16  is_repeated_guest               21996 non-null  int64         \n",
      " 17  previous_cancellations          21996 non-null  int64         \n",
      " 18  previous_bookings_not_canceled  21996 non-null  int64         \n",
      " 19  reserved_room_type              21996 non-null  object        \n",
      " 20  assigned_room_type              21996 non-null  object        \n",
      " 21  booking_changes                 21996 non-null  int64         \n",
      " 22  deposit_type                    21996 non-null  object        \n",
      " 23  agent                           18897 non-null  float64       \n",
      " 24  company                         1305 non-null   float64       \n",
      " 25  days_in_waiting_list            21996 non-null  int64         \n",
      " 26  customer_type                   21996 non-null  object        \n",
      " 27  adr                             21996 non-null  float64       \n",
      " 28  required_car_parking_spaces     21996 non-null  int64         \n",
      " 29  total_of_special_requests       21996 non-null  int64         \n",
      " 30  reservation_status              21996 non-null  object        \n",
      " 31  reservation_status_date         21996 non-null  datetime64[ns]\n",
      "dtypes: datetime64[ns](1), float64(4), int64(16), object(11)\n",
      "memory usage: 5.4+ MB\n"
     ]
    }
   ],
   "source": [
    "df.info()"
   ]
  },
  {
   "cell_type": "code",
   "execution_count": 6,
   "id": "2fb0fc45",
   "metadata": {},
   "outputs": [
    {
     "data": {
      "text/plain": [
       "hotel                                 0\n",
       "is_canceled                           0\n",
       "lead_time                             0\n",
       "arrival_date_year                     0\n",
       "arrival_date_month                    0\n",
       "arrival_date_week_number              0\n",
       "arrival_date_day_of_month             0\n",
       "stays_in_weekend_nights               0\n",
       "stays_in_week_nights                  0\n",
       "adults                                0\n",
       "children                              4\n",
       "babies                                0\n",
       "meal                                  0\n",
       "country                             133\n",
       "market_segment                        0\n",
       "distribution_channel                  0\n",
       "is_repeated_guest                     0\n",
       "previous_cancellations                0\n",
       "previous_bookings_not_canceled        0\n",
       "reserved_room_type                    0\n",
       "assigned_room_type                    0\n",
       "booking_changes                       0\n",
       "deposit_type                          0\n",
       "agent                              3099\n",
       "company                           20691\n",
       "days_in_waiting_list                  0\n",
       "customer_type                         0\n",
       "adr                                   0\n",
       "required_car_parking_spaces           0\n",
       "total_of_special_requests             0\n",
       "reservation_status                    0\n",
       "reservation_status_date               0\n",
       "dtype: int64"
      ]
     },
     "execution_count": 6,
     "metadata": {},
     "output_type": "execute_result"
    }
   ],
   "source": [
    "df.isna().sum()"
   ]
  },
  {
   "cell_type": "code",
   "execution_count": 7,
   "id": "2f7bdbe6",
   "metadata": {},
   "outputs": [
    {
     "data": {
      "text/plain": [
       "array(['Resort Hotel', 'City Hotel'], dtype=object)"
      ]
     },
     "execution_count": 7,
     "metadata": {},
     "output_type": "execute_result"
    }
   ],
   "source": [
    "df['hotel'].unique()"
   ]
  },
  {
   "cell_type": "code",
   "execution_count": 8,
   "id": "21aa88d2",
   "metadata": {},
   "outputs": [
    {
     "data": {
      "text/plain": [
       "array([2018], dtype=int64)"
      ]
     },
     "execution_count": 8,
     "metadata": {},
     "output_type": "execute_result"
    }
   ],
   "source": [
    "df['arrival_date_year'].unique()"
   ]
  },
  {
   "cell_type": "code",
   "execution_count": 11,
   "id": "3e5f55a4",
   "metadata": {},
   "outputs": [
    {
     "name": "stdout",
     "output_type": "stream",
     "text": [
      "The Revenue Generated From The Hotels Is  6818116.56\n"
     ]
    }
   ],
   "source": [
    "# Total revenue generated from the hotels\n",
    "total_revenue = (df['adr'] * (df['stays_in_weekend_nights'] + df['stays_in_week_nights'])).sum()\n",
    "print('The Revenue Generated From The Hotels Is ',total_revenue)"
   ]
  },
  {
   "cell_type": "code",
   "execution_count": 17,
   "id": "be977786",
   "metadata": {},
   "outputs": [
    {
     "data": {
      "image/png": "[encoded data removed]",
      "text/plain": [
       "<Figure size 1200x800 with 1 Axes>"
      ]
     },
     "metadata": {},
     "output_type": "display_data"
    }
   ],
   "source": [
    "# Hotel revenue trend over months\n",
    "# Ensure arrival_date_month is categorical and ordered\n",
    "df['arrival_date_month'] = pd.Categorical(df['arrival_date_month'], categories=[\n",
    "    'January', 'February', 'March', 'April', 'May', 'June',\n",
    "    'July', 'August', 'September', 'October', 'November', 'December'], ordered=True)\n",
    "\n",
    "# Hotel revenue trend over months with grid\n",
    "monthly_revenue = df.groupby('arrival_date_month')['adr'].sum()\n",
    "monthly_revenue.plot(kind='line', figsize=(12, 8), grid=True)\n",
    "plt.title('Hotel Revenue Trend Over Months')\n",
    "plt.xlabel('Month')\n",
    "plt.ylabel('Revenue')\n",
    "plt.xticks(rotation=45)\n",
    "plt.show()\n"
   ]
  },
  {
   "cell_type": "markdown",
   "id": "d87be384",
   "metadata": {},
   "source": [
    "### The line graph show us that the Hotel revenue trend is declining over the month\n"
   ]
  },
  {
   "cell_type": "code",
   "execution_count": 22,
   "id": "9a2e256d",
   "metadata": {},
   "outputs": [
    {
     "data": {
      "image/png": "[encoded data removed]",
      "text/plain": [
       "<Figure size 800x500 with 1 Axes>"
      ]
     },
     "metadata": {},
     "output_type": "display_data"
    }
   ],
   "source": [
    "# Revenue breakdown by hotel type\n",
    "revenue_by_hotel_type = df.groupby('hotel')['adr'].sum()\n",
    "revenue_by_hotel_type.plot(kind='bar', figsize=(8, 5),color='green')\n",
    "plt.title('Revenue Breakdown by Hotel Type')\n",
    "plt.xlabel('Hotel Type')\n",
    "plt.ylabel('Revenue')\n",
    "plt.xticks(rotation=0)\n",
    "plt.show()"
   ]
  },
  {
   "cell_type": "code",
   "execution_count": 23,
   "id": "80d667b3",
   "metadata": {},
   "outputs": [
    {
     "name": "stdout",
     "output_type": "stream",
     "text": [
      "Average Daily Rate (ADR) by Hotel Type:\n",
      "          hotel  average_daily_rate\n",
      "0    City Hotel           85.856915\n",
      "1  Resort Hotel           89.353417\n"
     ]
    }
   ],
   "source": [
    "# Average Daily Rate (ADR) by hotel type\n",
    "adr_by_hotel_type = df.groupby('hotel')['adr'].mean().reset_index()\n",
    "adr_by_hotel_type.rename(columns={'adr': 'average_daily_rate'}, inplace=True)\n",
    "print(\"Average Daily Rate (ADR) by Hotel Type:\")\n",
    "print(adr_by_hotel_type)\n"
   ]
  },
  {
   "cell_type": "code",
   "execution_count": 24,
   "id": "4ce7296e",
   "metadata": {},
   "outputs": [
    {
     "name": "stdout",
     "output_type": "stream",
     "text": [
      "The Average discount from the hotel chain will be  9.418515184579022\n"
     ]
    }
   ],
   "source": [
    "# Average discount from the hotel chain\n",
    "average_discount = df['adr'].mean() - df['adr'].median()\n",
    "print('The Average discount from the hotel chain will be ',average_discount)"
   ]
  },
  {
   "cell_type": "code",
   "execution_count": 25,
   "id": "b181f147",
   "metadata": {},
   "outputs": [
    {
     "name": "stdout",
     "output_type": "stream",
     "text": [
      "Peak Season(s): September\n",
      "Low Season(s): January\n"
     ]
    }
   ],
   "source": [
    "# Seasonal trends in hotel revenue\n",
    "seasonal_revenue = df.groupby('arrival_date_month')['adr'].sum()\n",
    "peak_seasons = seasonal_revenue.idxmax()\n",
    "low_seasons = seasonal_revenue.idxmin()\n",
    "print(\"Peak Season(s):\", peak_seasons)\n",
    "print(\"Low Season(s):\", low_seasons)\n"
   ]
  },
  {
   "cell_type": "code",
   "execution_count": 26,
   "id": "3f0f3d4d",
   "metadata": {},
   "outputs": [
    {
     "name": "stdout",
     "output_type": "stream",
     "text": [
      "The Total number of nights stayed by guests is calculated to be  74588\n"
     ]
    }
   ],
   "source": [
    "# Total number of nights stayed by guests\n",
    "total_nights_stayed = (df['stays_in_weekend_nights'] + df['stays_in_week_nights']).sum()\n",
    "print('The Total number of nights stayed by guests is calculated to be ',total_nights_stayed)"
   ]
  },
  {
   "cell_type": "code",
   "execution_count": 28,
   "id": "6e3d9228",
   "metadata": {},
   "outputs": [
    {
     "name": "stdout",
     "output_type": "stream",
     "text": [
      "The total market segment distribution revenue is  market_segment\n",
      "Complementary       425.33\n",
      "Corporate         74946.09\n",
      "Direct           249571.22\n",
      "Groups           453622.61\n",
      "Offline TA/TO    503305.98\n",
      "Online TA        635677.39\n",
      "Undefined            30.00\n",
      "Name: adr, dtype: float64\n"
     ]
    }
   ],
   "source": [
    "# Market segment distribution revenue\n",
    "segment_distribution_revenue = df.groupby('market_segment')['adr'].sum()\n",
    "print('The total market segment distribution revenue is ',segment_distribution_revenue)"
   ]
  },
  {
   "cell_type": "code",
   "execution_count": 30,
   "id": "72f01c30",
   "metadata": {},
   "outputs": [
    {
     "name": "stdout",
     "output_type": "stream",
     "text": [
      "The total Revenue by customer type is  customer_type\n",
      "Contract            239724.68\n",
      "Group                14698.56\n",
      "Transient          1061906.69\n",
      "Transient-Party     601248.69\n",
      "Name: adr, dtype: float64\n"
     ]
    }
   ],
   "source": [
    "# Revenue by customer type\n",
    "revenue_by_customer_type = df.groupby('customer_type')['adr'].sum()\n",
    "print('The total Revenue by customer type is ',revenue_by_customer_type)"
   ]
  },
  {
   "cell_type": "code",
   "execution_count": 32,
   "id": "fc234c93",
   "metadata": {},
   "outputs": [
    {
     "name": "stdout",
     "output_type": "stream",
     "text": [
      "Revenue, Count of Required Car Parking Spaces, and Parking Percentage by Arrival Year and Hotel:\n",
      "                                       adr  required_car_parking_spaces  \\\n",
      "arrival_date_year hotel                                                   \n",
      "2018              City Hotel    1174694.31                          203   \n",
      "                  Resort Hotel   742884.31                         1149   \n",
      "\n",
      "                                parking_percentage  \n",
      "arrival_date_year hotel                             \n",
      "2018              City Hotel             15.014793  \n",
      "                  Resort Hotel           84.985207  \n"
     ]
    }
   ],
   "source": [
    "# Calculate the total parking spaces\n",
    "total_parking_spaces = df['required_car_parking_spaces'].sum()\n",
    "\n",
    "# Revenue, count of required car parking spaces, and parking percentage for each arrival year and hotel\n",
    "revenue_car_parking = df.groupby(['arrival_date_year', 'hotel']).agg({'adr': 'sum', 'required_car_parking_spaces': 'sum'})\n",
    "revenue_car_parking['parking_percentage'] = (revenue_car_parking['required_car_parking_spaces'] / total_parking_spaces) * 100\n",
    "\n",
    "print(\"Revenue, Count of Required Car Parking Spaces, and Parking Percentage by Arrival Year and Hotel:\")\n",
    "print(revenue_car_parking)\n"
   ]
  },
  {
   "cell_type": "code",
   "execution_count": null,
   "id": "31725f93",
   "metadata": {},
   "outputs": [],
   "source": []
  }
 ],
 "metadata": {
  "kernelspec": {
   "display_name": "Python 3 (ipykernel)",
   "language": "python",
   "name": "python3"
  },
  "language_info": {
   "codemirror_mode": {
    "name": "ipython",
    "version": 3
   },
   "file_extension": ".py",
   "mimetype": "text/x-python",
   "name": "python",
   "nbconvert_exporter": "python",
   "pygments_lexer": "ipython3",
   "version": "3.11.5"
  }
 },
 "nbformat": 4,
 "nbformat_minor": 5
}
