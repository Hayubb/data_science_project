{
 "cells": [
  {
   "cell_type": "markdown",
   "id": "3ace2dc3",
   "metadata": {},
   "source": [
    "# INTRODUCTION"
   ]
  },
  {
   "cell_type": "markdown",
   "id": "bf035449",
   "metadata": {},
   "source": [
    "#### The Department of Transportation Accidents, Casualties, and Vehicles dataset provides valuable information about road accidents, casualties, and vehicles involved in the United Kingdom. This dataset is sourced from the UK government's data portal, data.gov.uk. The dataset covers a specific period and contains various attributes related to road accidents, such as date, time, location, vehicle details, and casualty information."
   ]
  },
  {
   "cell_type": "markdown",
   "id": "52239caf",
   "metadata": {},
   "source": [
    "### DATASET OVERVIEW"
   ]
  },
  {
   "cell_type": "markdown",
   "id": "a219c749",
   "metadata": {},
   "source": [
    "#### The dataset consists of a comprehensive collection of records documenting road accidents, casualties, and vehicles.The data is available in CSV format and lends itself well to analysis using the pyspark libarary in Apache Spark\n",
    "#### Each record has their own dataset "
   ]
  },
  {
   "cell_type": "code",
   "execution_count": 1,
   "id": "90f5b071",
   "metadata": {},
   "outputs": [],
   "source": [
    "# Import necessary libraries\n",
    "import pyspark\n",
    "from pyspark.sql import SparkSession\n",
    "from pyspark.sql.functions import col, count,sum"
   ]
  },
  {
   "cell_type": "code",
   "execution_count": 2,
   "id": "d6024fd0",
   "metadata": {},
   "outputs": [
    {
     "data": {
      "text/html": [
       "\n",
       "            <div>\n",
       "                <p><b>SparkSession - in-memory</b></p>\n",
       "                \n",
       "        <div>\n",
       "            <p><b>SparkContext</b></p>\n",
       "\n",
       "            <p><a href=\"http://LAPTOP-0V08HSIU:4041\">Spark UI</a></p>\n",
       "\n",
       "            <dl>\n",
       "              <dt>Version</dt>\n",
       "                <dd><code>v3.4.0</code></dd>\n",
       "              <dt>Master</dt>\n",
       "                <dd><code>local[*]</code></dd>\n",
       "              <dt>AppName</dt>\n",
       "                <dd><code>ProjectAnalysis</code></dd>\n",
       "            </dl>\n",
       "        </div>\n",
       "        \n",
       "            </div>\n",
       "        "
      ],
      "text/plain": [
       "<pyspark.sql.session.SparkSession at 0x23bf516b370>"
      ]
     },
     "execution_count": 2,
     "metadata": {},
     "output_type": "execute_result"
    }
   ],
   "source": [
    "# Create a SparkSession\n",
    "spark = SparkSession.builder.appName(\"ProjectAnalysis\").getOrCreate()\n",
    "spark"
   ]
  },
  {
   "cell_type": "markdown",
   "id": "305339bb",
   "metadata": {},
   "source": [
    "##### Load the dataset into a Spark DataFrame"
   ]
  },
  {
   "cell_type": "code",
   "execution_count": 3,
   "id": "d53d6b27",
   "metadata": {},
   "outputs": [],
   "source": [
    "accident_data = spark.read.csv(r'C:\\Users\\ayub_\\Downloads\\dft-road-casualty-statistics-accident-provisional-mid-year-unvalidated-2022.csv', header=True, inferSchema=True)\n",
    "casualty_data = spark.read.csv(r'C:\\Users\\ayub_\\Downloads\\dft-road-casualty-statistics-casualty-provisional-mid-year-unvalidated-2022.csv', header=True,inferSchema=True)\n",
    "vehicle_data = spark.read.csv(r'C:\\Users\\ayub_\\Downloads\\dft-road-casualty-statistics-vehicle-provisional-mid-year-unvalidated-2022.csv', header=True, inferSchema=True)"
   ]
  },
  {
   "cell_type": "markdown",
   "id": "8ec8ac86",
   "metadata": {},
   "source": [
    "### Data Understanding And Exploration"
   ]
  },
  {
   "cell_type": "code",
   "execution_count": 4,
   "id": "acc8865e",
   "metadata": {},
   "outputs": [
    {
     "data": {
      "text/plain": [
       "['status',\n",
       " 'accident_index',\n",
       " 'accident_year',\n",
       " 'accident_reference',\n",
       " 'location_easting_osgr',\n",
       " 'location_northing_osgr',\n",
       " 'longitude',\n",
       " 'latitude',\n",
       " 'police_force',\n",
       " 'accident_severity',\n",
       " 'number_of_vehicles',\n",
       " 'number_of_casualties',\n",
       " 'date',\n",
       " 'day_of_week',\n",
       " 'time',\n",
       " 'local_authority_district',\n",
       " 'local_authority_ons_district',\n",
       " 'local_authority_highway',\n",
       " 'first_road_class',\n",
       " 'first_road_number',\n",
       " 'road_type',\n",
       " 'speed_limit',\n",
       " 'junction_detail',\n",
       " 'junction_control',\n",
       " 'second_road_class',\n",
       " 'second_road_number',\n",
       " 'pedestrian_crossing_human_control',\n",
       " 'pedestrian_crossing_physical_facilities',\n",
       " 'light_conditions',\n",
       " 'weather_conditions',\n",
       " 'road_surface_conditions',\n",
       " 'special_conditions_at_site',\n",
       " 'carriageway_hazards',\n",
       " 'urban_or_rural_area',\n",
       " 'did_police_officer_attend_scene_of_accident',\n",
       " 'trunk_road_flag',\n",
       " 'lsoa_of_accident_location']"
      ]
     },
     "execution_count": 4,
     "metadata": {},
     "output_type": "execute_result"
    }
   ],
   "source": [
    "accident_data.columns"
   ]
  },
  {
   "cell_type": "markdown",
   "id": "ba5c30f5",
   "metadata": {},
   "source": [
    "#### creating a new dataframe from the dataset given by selecting needed columns for analysis and assign it to a new variable,then get their data typeand their description"
   ]
  },
  {
   "cell_type": "code",
   "execution_count": 5,
   "id": "84557a5a",
   "metadata": {},
   "outputs": [],
   "source": [
    "Accident=accident_data.select(['accident_index','accident_severity','date','road_type','speed_limit',\n",
    " 'location_easting_osgr','location_northing_osgr','time','light_conditions',\n",
    " 'weather_conditions'])"
   ]
  },
  {
   "cell_type": "code",
   "execution_count": 6,
   "id": "19667a8f",
   "metadata": {},
   "outputs": [
    {
     "data": {
      "text/plain": [
       "[('accident_index', 'string'),\n",
       " ('accident_severity', 'int'),\n",
       " ('date', 'string'),\n",
       " ('road_type', 'int'),\n",
       " ('speed_limit', 'int'),\n",
       " ('location_easting_osgr', 'string'),\n",
       " ('location_northing_osgr', 'string'),\n",
       " ('time', 'timestamp'),\n",
       " ('light_conditions', 'int'),\n",
       " ('weather_conditions', 'int')]"
      ]
     },
     "execution_count": 6,
     "metadata": {},
     "output_type": "execute_result"
    }
   ],
   "source": [
    "Accident.dtypes"
   ]
  },
  {
   "cell_type": "code",
   "execution_count": 7,
   "id": "077b9250",
   "metadata": {},
   "outputs": [
    {
     "name": "stdout",
     "output_type": "stream",
     "text": [
      "+-------+--------------------+-------------------+----------+------------------+------------------+---------------------+----------------------+------------------+------------------+\n",
      "|summary|      accident_index|  accident_severity|      date|         road_type|       speed_limit|location_easting_osgr|location_northing_osgr|  light_conditions|weather_conditions|\n",
      "+-------+--------------------+-------------------+----------+------------------+------------------+---------------------+----------------------+------------------+------------------+\n",
      "|  count|               48283|              48283|     48283|             48283|             48283|                48283|                 48283|             48283|             48283|\n",
      "|   mean|2.022255907687501...| 2.7482550794275418|      null| 5.254975871424725|35.714910009734275|    459799.7021214277|     278250.1998409975|1.9404138102437711| 1.630387506990038|\n",
      "| stddev|2.4254080813871908E8|0.46778140832278553|      null|1.7083676989548346|14.174205337034385|    93855.00428359892|    145550.05378128772|1.6496599520060558|1.8631680124617553|\n",
      "|    min|       2022010352573|                  1|01/01/2022|                 1|                -1|               119434|                100003|                 1|                 1|\n",
      "|    max|       2022991230795|                  3|31/05/2022|                 9|                70|                 NULL|                  NULL|                 7|                 9|\n",
      "+-------+--------------------+-------------------+----------+------------------+------------------+---------------------+----------------------+------------------+------------------+\n",
      "\n"
     ]
    }
   ],
   "source": [
    "Accident.describe().show()"
   ]
  },
  {
   "cell_type": "code",
   "execution_count": 8,
   "id": "69038e50",
   "metadata": {},
   "outputs": [
    {
     "name": "stdout",
     "output_type": "stream",
     "text": [
      "root\n",
      " |-- accident_index: string (nullable = true)\n",
      " |-- accident_severity: integer (nullable = true)\n",
      " |-- date: string (nullable = true)\n",
      " |-- road_type: integer (nullable = true)\n",
      " |-- speed_limit: integer (nullable = true)\n",
      " |-- location_easting_osgr: string (nullable = true)\n",
      " |-- location_northing_osgr: string (nullable = true)\n",
      " |-- time: timestamp (nullable = true)\n",
      " |-- light_conditions: integer (nullable = true)\n",
      " |-- weather_conditions: integer (nullable = true)\n",
      "\n"
     ]
    }
   ],
   "source": [
    "Accident.printSchema()"
   ]
  },
  {
   "cell_type": "code",
   "execution_count": 9,
   "id": "8269598e",
   "metadata": {},
   "outputs": [
    {
     "data": {
      "text/plain": [
       "['status',\n",
       " 'accident_index',\n",
       " 'accident_year',\n",
       " 'accident_reference',\n",
       " 'vehicle_reference',\n",
       " 'casualty_reference',\n",
       " 'casualty_class',\n",
       " 'sex_of_casualty',\n",
       " 'age_of_casualty',\n",
       " 'age_band_of_casualty',\n",
       " 'casualty_severity',\n",
       " 'pedestrian_location',\n",
       " 'pedestrian_movement',\n",
       " 'car_passenger',\n",
       " 'bus_or_coach_passenger',\n",
       " 'pedestrian_road_maintenance_worker',\n",
       " 'casualty_type',\n",
       " 'casualty_home_area_type',\n",
       " 'casualty_imd_decile',\n",
       " 'lsoa_of_casualty']"
      ]
     },
     "execution_count": 9,
     "metadata": {},
     "output_type": "execute_result"
    }
   ],
   "source": [
    "casualty_data.columns"
   ]
  },
  {
   "cell_type": "code",
   "execution_count": 10,
   "id": "28162f22",
   "metadata": {},
   "outputs": [],
   "source": [
    "Casualty=casualty_data.select(['accident_index','casualty_reference','age_of_casualty','sex_of_casualty','casualty_severity',\n",
    "                              'pedestrian_location','pedestrian_movement','vehicle_reference'])"
   ]
  },
  {
   "cell_type": "code",
   "execution_count": 11,
   "id": "e1f1a566",
   "metadata": {},
   "outputs": [
    {
     "data": {
      "text/plain": [
       "[('accident_index', 'string'),\n",
       " ('casualty_reference', 'int'),\n",
       " ('age_of_casualty', 'int'),\n",
       " ('sex_of_casualty', 'int'),\n",
       " ('casualty_severity', 'int'),\n",
       " ('pedestrian_location', 'int'),\n",
       " ('pedestrian_movement', 'int'),\n",
       " ('vehicle_reference', 'int')]"
      ]
     },
     "execution_count": 11,
     "metadata": {},
     "output_type": "execute_result"
    }
   ],
   "source": [
    "Casualty.dtypes"
   ]
  },
  {
   "cell_type": "code",
   "execution_count": 12,
   "id": "184b3839",
   "metadata": {},
   "outputs": [
    {
     "name": "stdout",
     "output_type": "stream",
     "text": [
      "+-------+--------------------+------------------+------------------+------------------+-------------------+-------------------+-------------------+------------------+\n",
      "|summary|      accident_index|casualty_reference|   age_of_casualty|   sex_of_casualty|  casualty_severity|pedestrian_location|pedestrian_movement| vehicle_reference|\n",
      "+-------+--------------------+------------------+------------------+------------------+-------------------+-------------------+-------------------+------------------+\n",
      "|  count|               61352|             61352|             61352|             61352|              61352|              61352|              61352|             61352|\n",
      "|   mean|2.022264183970777E12|1.3337788499152432| 36.67031229625766|1.3687899334985005|  2.783038857738949|  0.800316208110575| 0.6453253357673752|1.4503683661494329|\n",
      "| stddev|2.4353722897500205E8|0.9815071935068534|19.574357113833543|0.5345362336611262|0.44231801409519195| 2.1971673484998666|   2.00961113946355|1.1098553831059148|\n",
      "|    min|       2022010352573|                 1|                -1|                -1|                  1|                  0|                  0|                 1|\n",
      "|    max|       2022991230795|               148|               101|                 9|                  3|                 10|                  9|               227|\n",
      "+-------+--------------------+------------------+------------------+------------------+-------------------+-------------------+-------------------+------------------+\n",
      "\n"
     ]
    }
   ],
   "source": [
    "Casualty.describe().show()"
   ]
  },
  {
   "cell_type": "code",
   "execution_count": 13,
   "id": "b6b592ea",
   "metadata": {
    "scrolled": true
   },
   "outputs": [
    {
     "name": "stdout",
     "output_type": "stream",
     "text": [
      "root\n",
      " |-- accident_index: string (nullable = true)\n",
      " |-- casualty_reference: integer (nullable = true)\n",
      " |-- age_of_casualty: integer (nullable = true)\n",
      " |-- sex_of_casualty: integer (nullable = true)\n",
      " |-- casualty_severity: integer (nullable = true)\n",
      " |-- pedestrian_location: integer (nullable = true)\n",
      " |-- pedestrian_movement: integer (nullable = true)\n",
      " |-- vehicle_reference: integer (nullable = true)\n",
      "\n"
     ]
    }
   ],
   "source": [
    "Casualty.printSchema()"
   ]
  },
  {
   "cell_type": "code",
   "execution_count": 14,
   "id": "533532cd",
   "metadata": {},
   "outputs": [
    {
     "data": {
      "text/plain": [
       "['status',\n",
       " 'accident_index',\n",
       " 'accident_year',\n",
       " 'accident_reference',\n",
       " 'vehicle_reference',\n",
       " 'vehicle_type',\n",
       " 'towing_and_articulation',\n",
       " 'vehicle_manoeuvre',\n",
       " 'vehicle_direction_from',\n",
       " 'vehicle_direction_to',\n",
       " 'vehicle_location_restricted_lane',\n",
       " 'junction_location',\n",
       " 'skidding_and_overturning',\n",
       " 'hit_object_in_carriageway',\n",
       " 'vehicle_leaving_carriageway',\n",
       " 'hit_object_off_carriageway',\n",
       " 'first_point_of_impact',\n",
       " 'vehicle_left_hand_drive',\n",
       " 'journey_purpose_of_driver',\n",
       " 'sex_of_driver',\n",
       " 'age_of_driver',\n",
       " 'age_band_of_driver',\n",
       " 'engine_capacity_cc',\n",
       " 'propulsion_code',\n",
       " 'age_of_vehicle',\n",
       " 'generic_make_model',\n",
       " 'driver_imd_decile',\n",
       " 'driver_home_area_type',\n",
       " 'lsoa_of_driver']"
      ]
     },
     "execution_count": 14,
     "metadata": {},
     "output_type": "execute_result"
    }
   ],
   "source": [
    "vehicle_data.columns"
   ]
  },
  {
   "cell_type": "code",
   "execution_count": 15,
   "id": "6f1cee17",
   "metadata": {},
   "outputs": [],
   "source": [
    "Vehicle=vehicle_data.select(['accident_index','vehicle_reference','vehicle_type','age_of_vehicle','engine_capacity_cc','vehicle_manoeuvre',\n",
    "                            'junction_location','skidding_and_overturning'])"
   ]
  },
  {
   "cell_type": "code",
   "execution_count": 16,
   "id": "da70488f",
   "metadata": {},
   "outputs": [
    {
     "data": {
      "text/plain": [
       "[('accident_index', 'string'),\n",
       " ('vehicle_reference', 'int'),\n",
       " ('vehicle_type', 'int'),\n",
       " ('age_of_vehicle', 'int'),\n",
       " ('engine_capacity_cc', 'int'),\n",
       " ('vehicle_manoeuvre', 'int'),\n",
       " ('junction_location', 'int'),\n",
       " ('skidding_and_overturning', 'int')]"
      ]
     },
     "execution_count": 16,
     "metadata": {},
     "output_type": "execute_result"
    }
   ],
   "source": [
    "Vehicle.dtypes"
   ]
  },
  {
   "cell_type": "code",
   "execution_count": 17,
   "id": "1e88ce5f",
   "metadata": {},
   "outputs": [
    {
     "name": "stdout",
     "output_type": "stream",
     "text": [
      "+-------+--------------------+------------------+------------------+--------------+------------------+------------------+------------------+------------------------+\n",
      "|summary|      accident_index| vehicle_reference|      vehicle_type|age_of_vehicle|engine_capacity_cc| vehicle_manoeuvre| junction_location|skidding_and_overturning|\n",
      "+-------+--------------------+------------------+------------------+--------------+------------------+------------------+------------------+------------------------+\n",
      "|  count|               88060|             88060|             88060|         88060|             88060|             88060|             88060|                   88060|\n",
      "|   mean|2.022255373311189...|1.5444696797637973|12.463479445832387|          -1.0|              -1.0|20.112695889166478|2.5987508516920284|      0.9660004542357483|\n",
      "| stddev| 2.407638540254559E8|1.0604485983186858|18.238130142339195|           0.0|               0.0| 24.89241516879839|3.3348029260139764|       2.585654819295722|\n",
      "|    min|       2022010352573|                 1|                -1|            -1|                -1|                -1|                -1|                      -1|\n",
      "|    max|       2022991230795|               227|                99|            -1|                -1|                99|                 9|                       9|\n",
      "+-------+--------------------+------------------+------------------+--------------+------------------+------------------+------------------+------------------------+\n",
      "\n"
     ]
    }
   ],
   "source": [
    "Vehicle.describe().show()"
   ]
  },
  {
   "cell_type": "code",
   "execution_count": 18,
   "id": "b2da5186",
   "metadata": {
    "scrolled": true
   },
   "outputs": [
    {
     "name": "stdout",
     "output_type": "stream",
     "text": [
      "root\n",
      " |-- accident_index: string (nullable = true)\n",
      " |-- vehicle_reference: integer (nullable = true)\n",
      " |-- vehicle_type: integer (nullable = true)\n",
      " |-- age_of_vehicle: integer (nullable = true)\n",
      " |-- engine_capacity_cc: integer (nullable = true)\n",
      " |-- vehicle_manoeuvre: integer (nullable = true)\n",
      " |-- junction_location: integer (nullable = true)\n",
      " |-- skidding_and_overturning: integer (nullable = true)\n",
      "\n"
     ]
    }
   ],
   "source": [
    "Vehicle.printSchema()"
   ]
  },
  {
   "cell_type": "markdown",
   "id": "60d3c25a",
   "metadata": {},
   "source": [
    "### Data Cleaning And Preprocessing"
   ]
  },
  {
   "cell_type": "markdown",
   "id": "02c82812",
   "metadata": {},
   "source": [
    "#### checking for null,dealing with outliers and converting data types value in all dataset"
   ]
  },
  {
   "cell_type": "code",
   "execution_count": 19,
   "id": "0cdf0d07",
   "metadata": {},
   "outputs": [],
   "source": [
    "acci_null=Accident.agg(*[sum(col(column).isNull().cast(\"integer\")).alias(column) for column in Accident.columns])"
   ]
  },
  {
   "cell_type": "code",
   "execution_count": 20,
   "id": "d7339182",
   "metadata": {},
   "outputs": [
    {
     "name": "stdout",
     "output_type": "stream",
     "text": [
      "+--------------+-----------------+----+---------+-----------+---------------------+----------------------+----+----------------+------------------+\n",
      "|accident_index|accident_severity|date|road_type|speed_limit|location_easting_osgr|location_northing_osgr|time|light_conditions|weather_conditions|\n",
      "+--------------+-----------------+----+---------+-----------+---------------------+----------------------+----+----------------+------------------+\n",
      "|             0|                0|   0|        0|          0|                    0|                     0|   0|               0|                 0|\n",
      "+--------------+-----------------+----+---------+-----------+---------------------+----------------------+----+----------------+------------------+\n",
      "\n"
     ]
    }
   ],
   "source": [
    "acci_null.show()"
   ]
  },
  {
   "cell_type": "code",
   "execution_count": 21,
   "id": "fb538781",
   "metadata": {},
   "outputs": [],
   "source": [
    "# change the datatype of date to timestamp in Accident dataset\n",
    "Accident=Accident.withColumn('date',col('date').cast('timestamp'))"
   ]
  },
  {
   "cell_type": "code",
   "execution_count": 22,
   "id": "e9e197ff",
   "metadata": {},
   "outputs": [
    {
     "data": {
      "text/plain": [
       "[('accident_index', 'string'),\n",
       " ('accident_severity', 'int'),\n",
       " ('date', 'timestamp'),\n",
       " ('road_type', 'int'),\n",
       " ('speed_limit', 'int'),\n",
       " ('location_easting_osgr', 'string'),\n",
       " ('location_northing_osgr', 'string'),\n",
       " ('time', 'timestamp'),\n",
       " ('light_conditions', 'int'),\n",
       " ('weather_conditions', 'int')]"
      ]
     },
     "execution_count": 22,
     "metadata": {},
     "output_type": "execute_result"
    }
   ],
   "source": [
    "Accident.dtypes"
   ]
  },
  {
   "cell_type": "markdown",
   "id": "1a43ac12",
   "metadata": {},
   "source": [
    "##### above analysis show that no null values in Accident dataset and data type required for the columns is correct"
   ]
  },
  {
   "cell_type": "code",
   "execution_count": 23,
   "id": "816a80e0",
   "metadata": {},
   "outputs": [],
   "source": [
    "casu_null=Casualty.agg(*[sum(col(column).isNull().cast(\"integer\")).alias(column) for column in Casualty.columns])"
   ]
  },
  {
   "cell_type": "code",
   "execution_count": 24,
   "id": "6f4e1dd8",
   "metadata": {},
   "outputs": [
    {
     "name": "stdout",
     "output_type": "stream",
     "text": [
      "+--------------+------------------+---------------+---------------+-----------------+-------------------+-------------------+-----------------+\n",
      "|accident_index|casualty_reference|age_of_casualty|sex_of_casualty|casualty_severity|pedestrian_location|pedestrian_movement|vehicle_reference|\n",
      "+--------------+------------------+---------------+---------------+-----------------+-------------------+-------------------+-----------------+\n",
      "|             0|                 0|              0|              0|                0|                  0|                  0|                0|\n",
      "+--------------+------------------+---------------+---------------+-----------------+-------------------+-------------------+-----------------+\n",
      "\n"
     ]
    }
   ],
   "source": [
    "casu_null.show()"
   ]
  },
  {
   "cell_type": "code",
   "execution_count": 25,
   "id": "5115f781",
   "metadata": {},
   "outputs": [
    {
     "data": {
      "text/plain": [
       "[('accident_index', 'string'),\n",
       " ('casualty_reference', 'int'),\n",
       " ('age_of_casualty', 'int'),\n",
       " ('sex_of_casualty', 'int'),\n",
       " ('casualty_severity', 'int'),\n",
       " ('pedestrian_location', 'int'),\n",
       " ('pedestrian_movement', 'int'),\n",
       " ('vehicle_reference', 'int')]"
      ]
     },
     "execution_count": 25,
     "metadata": {},
     "output_type": "execute_result"
    }
   ],
   "source": [
    "Casualty.dtypes"
   ]
  },
  {
   "cell_type": "code",
   "execution_count": 26,
   "id": "8f8d607d",
   "metadata": {},
   "outputs": [],
   "source": [
    "#calculating summary statistic\n",
    "casu_summary=Casualty.select(['age_of_casualty','casualty_severity']).summary()\n"
   ]
  },
  {
   "cell_type": "code",
   "execution_count": 27,
   "id": "0ce1d5fb",
   "metadata": {},
   "outputs": [],
   "source": [
    "#Extract quartiles\n",
    "q1=casu_summary.filter(col('summary')== '25%').select(['age_of_casualty','casualty_severity']).collect()[0][0]\n",
    "q2=casu_summary.filter(col('summary')== '75%').select(['age_of_casualty','casualty_severity']).collect()[0][0]"
   ]
  },
  {
   "cell_type": "code",
   "execution_count": 28,
   "id": "2c7321cf",
   "metadata": {},
   "outputs": [],
   "source": [
    "# convert q1&q2 to integer then calculating the interquartile range\n",
    "QR=int(q2)-int(q1)"
   ]
  },
  {
   "cell_type": "code",
   "execution_count": 29,
   "id": "3d29580b",
   "metadata": {},
   "outputs": [],
   "source": [
    "#assign  the lower and upper for the outliers\n",
    "lower=int(q1) - (1.5 * QR)\n",
    "upper=int(q2) + (1.5 * QR)"
   ]
  },
  {
   "cell_type": "code",
   "execution_count": 30,
   "id": "61dfda2b",
   "metadata": {},
   "outputs": [],
   "source": [
    "# identify the outliers\n",
    "age_col=\"age_of_casualty\"\n",
    "severity_col=\"casualty_severity\"\n",
    "casu_outliers=Casualty.filter((col(age_col) < lower) | (col(severity_col) > upper))"
   ]
  },
  {
   "cell_type": "code",
   "execution_count": 31,
   "id": "39da81f2",
   "metadata": {},
   "outputs": [
    {
     "name": "stdout",
     "output_type": "stream",
     "text": [
      "+--------------+------------------+---------------+---------------+-----------------+-------------------+-------------------+-----------------+\n",
      "|accident_index|casualty_reference|age_of_casualty|sex_of_casualty|casualty_severity|pedestrian_location|pedestrian_movement|vehicle_reference|\n",
      "+--------------+------------------+---------------+---------------+-----------------+-------------------+-------------------+-----------------+\n",
      "+--------------+------------------+---------------+---------------+-----------------+-------------------+-------------------+-----------------+\n",
      "\n"
     ]
    }
   ],
   "source": [
    "casu_outliers.show()"
   ]
  },
  {
   "cell_type": "markdown",
   "id": "1b938a0c",
   "metadata": {},
   "source": [
    "#### above casuality analysis show that no null values,the datatypes are in order and no outliers suggests that the values in the selected columns of the casualties dataset which indicate that the data collection process was reliable and there are no major anomalies in the dataset."
   ]
  },
  {
   "cell_type": "code",
   "execution_count": 32,
   "id": "f89428d7",
   "metadata": {},
   "outputs": [
    {
     "data": {
      "text/plain": [
       "[('accident_index', 'string'),\n",
       " ('vehicle_reference', 'int'),\n",
       " ('vehicle_type', 'int'),\n",
       " ('age_of_vehicle', 'int'),\n",
       " ('engine_capacity_cc', 'int'),\n",
       " ('vehicle_manoeuvre', 'int'),\n",
       " ('junction_location', 'int'),\n",
       " ('skidding_and_overturning', 'int')]"
      ]
     },
     "execution_count": 32,
     "metadata": {},
     "output_type": "execute_result"
    }
   ],
   "source": [
    "Vehicle.dtypes"
   ]
  },
  {
   "cell_type": "code",
   "execution_count": 33,
   "id": "755bd7dd",
   "metadata": {},
   "outputs": [],
   "source": [
    "vehi_null=Vehicle.agg(*[sum(col(column).isNull().cast(\"integer\")).alias(column) for column in Vehicle.columns])"
   ]
  },
  {
   "cell_type": "code",
   "execution_count": 34,
   "id": "d27141df",
   "metadata": {},
   "outputs": [
    {
     "name": "stdout",
     "output_type": "stream",
     "text": [
      "+--------------+-----------------+------------+--------------+------------------+-----------------+-----------------+------------------------+\n",
      "|accident_index|vehicle_reference|vehicle_type|age_of_vehicle|engine_capacity_cc|vehicle_manoeuvre|junction_location|skidding_and_overturning|\n",
      "+--------------+-----------------+------------+--------------+------------------+-----------------+-----------------+------------------------+\n",
      "|             0|                0|           0|             0|                 0|                0|                0|                       0|\n",
      "+--------------+-----------------+------------+--------------+------------------+-----------------+-----------------+------------------------+\n",
      "\n"
     ]
    }
   ],
   "source": [
    "vehi_null.show()"
   ]
  },
  {
   "cell_type": "code",
   "execution_count": 35,
   "id": "6fd8ed8f",
   "metadata": {},
   "outputs": [],
   "source": [
    "# repeating the same process on hw to check the outlires\n",
    "vehi_summary=Vehicle.select(['age_of_vehicle','engine_capacity_cc']).summary()\n"
   ]
  },
  {
   "cell_type": "code",
   "execution_count": 36,
   "id": "bd372389",
   "metadata": {},
   "outputs": [],
   "source": [
    "q1=vehi_summary.filter(col('summary')== '25%').select(['age_of_vehicle','engine_capacity_cc']).collect()[0][0]\n",
    "q2=vehi_summary.filter(col('summary')== '75%').select(['age_of_vehicle','engine_capacity_cc']).collect()[0][0]"
   ]
  },
  {
   "cell_type": "code",
   "execution_count": 37,
   "id": "d5fdb0a9",
   "metadata": {},
   "outputs": [],
   "source": [
    "QR=int(q2)-int(q1)"
   ]
  },
  {
   "cell_type": "code",
   "execution_count": 38,
   "id": "5621fd06",
   "metadata": {},
   "outputs": [],
   "source": [
    "lower=int(q1) - (1.5 * QR)\n",
    "upper=int(q2) + (1.5 * QR)"
   ]
  },
  {
   "cell_type": "code",
   "execution_count": 39,
   "id": "681744dc",
   "metadata": {},
   "outputs": [],
   "source": [
    "age_col='age_of_vehicle'\n",
    "egine_col='engine_capacity_cc'\n",
    "vehi_outliers=Vehicle.filter((col(age_col) < lower) | (col(egine_col) > upper) | (col(egine_col) < lower) | (col(age_col) > upper))"
   ]
  },
  {
   "cell_type": "code",
   "execution_count": 40,
   "id": "d891e0c2",
   "metadata": {},
   "outputs": [
    {
     "name": "stdout",
     "output_type": "stream",
     "text": [
      "+--------------+-----------------+------------+--------------+------------------+-----------------+-----------------+------------------------+\n",
      "|accident_index|vehicle_reference|vehicle_type|age_of_vehicle|engine_capacity_cc|vehicle_manoeuvre|junction_location|skidding_and_overturning|\n",
      "+--------------+-----------------+------------+--------------+------------------+-----------------+-----------------+------------------------+\n",
      "+--------------+-----------------+------------+--------------+------------------+-----------------+-----------------+------------------------+\n",
      "\n"
     ]
    }
   ],
   "source": [
    "vehi_outliers.show()"
   ]
  },
  {
   "cell_type": "markdown",
   "id": "5f05d8d9",
   "metadata": {},
   "source": [
    "####  above Vehicle analysis show that no null values,the datatypes are in order and no outliers suggests that the values in the selected columns of the Vehicle dataset which indicate that the data collection process was reliable and there are no major anomalies in the dataset."
   ]
  },
  {
   "cell_type": "markdown",
   "id": "495ca796",
   "metadata": {},
   "source": [
    "### Exploratory Data Analysis (EDA)"
   ]
  },
  {
   "cell_type": "code",
   "execution_count": 67,
   "id": "5a45f8dc",
   "metadata": {},
   "outputs": [],
   "source": [
    "# analyzing the trend across the years in each dataset using visualization with pyspark_dist_explore\n",
    "# importing the necessary libraries\n",
    "#import pandas as pd \n",
    "from pyspark_dist_explore import hist\n",
    "import pandas as pd\n",
    "import matplotlib.pyplot as plt\n",
    "import numpy as np\n",
    "import seaborn as sns\n",
    "%matplotlib inline"
   ]
  },
  {
   "cell_type": "markdown",
   "id": "630a7af9",
   "metadata": {},
   "source": [
    "#### it won't be possible to visualize trends across years,to visualize trends, you typically need multiple data points for each year"
   ]
  },
  {
   "cell_type": "code",
   "execution_count": 79,
   "id": "f36febf2",
   "metadata": {},
   "outputs": [],
   "source": [
    "# Group the casualty_data by casualty type and get the count\n",
    "casualty_counts = casualty_data.groupby('Casualty_Type').count().withColumnRenamed('count', 'Count').toPandas()\n",
    "\n",
    "# Group the accident_data by pedestrian movement and get the count\n",
    "pedestrian_counts = casualty_data.groupby('Pedestrian_Movement').count().withColumnRenamed('count', 'Count').toPandas()"
   ]
  },
  {
   "cell_type": "code",
   "execution_count": 82,
   "id": "3d7121b0",
   "metadata": {},
   "outputs": [
    {
     "data": {
      "image/png": "[encoded data removed]",
      "text/plain": [
       "<Figure size 864x432 with 2 Axes>"
      ]
     },
     "metadata": {},
     "output_type": "display_data"
    }
   ],
   "source": [
    "# Set up the figure and axes\n",
    "fig, (ax1, ax2) = plt.subplots(1, 2, figsize=(12, 6))\n",
    "\n",
    "# Bar plot for casualty types\n",
    "sns.barplot(data=casualty_counts, x='Casualty_Type', y='Count', ax=ax1)\n",
    "ax1.set_title('Casualty Types')\n",
    "ax1.set_xlabel('Casualty Type')\n",
    "ax1.set_ylabel('Count')\n",
    "\n",
    "# Donut plot for pedestrian movement\n",
    "wedges, texts, autotexts = ax2.pie(pedestrian_counts['Count'], labels=pedestrian_counts['Pedestrian_Movement'], autopct='%1.1f%%', startangle=90, wedgeprops=dict(width=0.4))\n",
    "plt.setp(autotexts, size=10, weight='bold')\n",
    "ax2.set_title('Pedestrian Movement')\n",
    "\n",
    "# Create a circle at the center to make it a donut plot\n",
    "centre_circle = plt.Circle((0,0), 0.3, color='white')\n",
    "ax2.add_artist(centre_circle)\n",
    "\n",
    "# Equal aspect ratio ensures that pie is drawn as a circle\n",
    "ax2.axis('equal')\n",
    "\n",
    "# Display the plot\n",
    "plt.tight_layout()\n",
    "plt.show()"
   ]
  },
  {
   "cell_type": "markdown",
   "id": "4888f813",
   "metadata": {},
   "source": [
    "#### Casualty Types: The bar plot provides insights into the distribution of different types of casualties. It shows the count of each casualty type, allowing us to identify the most common types of casualties. By analyzing the bars, we can determine which casualty types occur more frequently in the dataset.\n",
    "\n",
    "#### Pedestrian Movement: The donut plot represents the proportion of various pedestrian movement categories. It provides an overview of how pedestrians are involved in accidents and their movement patterns. The different segments of the donut plot indicate different pedestrian movement categories, such as crossing the road, walking along the road, or standing/waiting by the roadside. The size of each segment indicates the relative frequency of that particular movement category."
   ]
  },
  {
   "cell_type": "code",
   "execution_count": 85,
   "id": "87bd6d13",
   "metadata": {},
   "outputs": [
    {
     "data": {
      "image/png": "[encoded data removed]",
      "text/plain": [
       "<Figure size 576x432 with 1 Axes>"
      ]
     },
     "metadata": {},
     "output_type": "display_data"
    }
   ],
   "source": [
    "# Count the occurrences of each accident severity category\n",
    "severity_counts = accident_data.groupBy('Accident_Severity').count().toPandas()\n",
    "\n",
    "# Create a bar plot for accident severity\n",
    "plt.figure(figsize=(8, 6))\n",
    "sns.barplot(data=severity_counts, x='Accident_Severity', y='count', palette='Set1')\n",
    "plt.xlabel('Accident Severity')\n",
    "plt.ylabel('Count')\n",
    "plt.title('Distribution of Accident Severity')\n",
    "plt.show()"
   ]
  },
  {
   "cell_type": "markdown",
   "id": "8fe2e76d",
   "metadata": {},
   "source": [
    "#### Distribution of Accident Severity:\n",
    "\n",
    "#### The bar plot shows the distribution of accident severity categories: \"Fatal,\" \"Serious,\" and \"Slight.\"\n",
    "#### The majority of accidents fall under the \"Slight\" category, indicating that most accidents result in minor injuries or property damage\n",
    "#### The number of \"Serious\" accidents is relatively lower than \"Slight\" accidents, suggesting a significant drop in severity\n",
    "#### The \"Fatal\" category has the fewest occurrences, indicating a relatively small proportion of accidents result in fatalities."
   ]
  },
  {
   "cell_type": "code",
   "execution_count": 87,
   "id": "341d75ab",
   "metadata": {},
   "outputs": [
    {
     "data": {
      "image/png": "[encoded data removed]",
      "text/plain": [
       "<Figure size 864x432 with 1 Axes>"
      ]
     },
     "metadata": {},
     "output_type": "display_data"
    }
   ],
   "source": [
    "from pyspark.sql.functions import col\n",
    "\n",
    "# Count the occurrences of each road type category\n",
    "road_type_counts = accident_data.groupBy('Road_Type').count().toPandas()\n",
    "\n",
    "# Create a bar plot for road types\n",
    "plt.figure(figsize=(12, 6))\n",
    "sns.barplot(data=road_type_counts, x='Road_Type', y='count', palette='Set1')\n",
    "plt.xlabel('Road Type')\n",
    "plt.ylabel('Count')\n",
    "plt.title('Distribution of Road Types')\n",
    "plt.xticks(rotation=45)\n",
    "plt.show()"
   ]
  },
  {
   "cell_type": "markdown",
   "id": "fa701dda",
   "metadata": {},
   "source": [
    "#### Distribution of Road Types:\n",
    "\n",
    "#### The bar plot illustrates the distribution of different road types where accidents occur.\n",
    "#### The most common road type is likely to be \"Single carriageway,\" indicating that accidents frequently occur on roads with a single lane in each direction.\n",
    "#### The occurrences of \"Roundabout\" and \"Dual carriageway\" are also significant, suggesting that accidents occur at these types of road configurations."
   ]
  },
  {
   "cell_type": "code",
   "execution_count": 89,
   "id": "99526052",
   "metadata": {},
   "outputs": [
    {
     "data": {
      "image/png": "[encoded data removed]",
      "text/plain": [
       "<Figure size 720x432 with 1 Axes>"
      ]
     },
     "metadata": {},
     "output_type": "display_data"
    }
   ],
   "source": [
    "from pyspark.sql.functions import col\n",
    "\n",
    "# Group the accident_data by light conditions and count the occurrences\n",
    "light_conditions_counts = accident_data.groupBy('Light_Conditions').count()\n",
    "\n",
    "# Convert the result to a Pandas DataFrame for visualization\n",
    "light_conditions_counts_df = light_conditions_counts.toPandas()\n",
    "\n",
    "# Create a bar plot for light conditions\n",
    "plt.figure(figsize=(10, 6))\n",
    "plt.bar(light_conditions_counts_df['Light_Conditions'], light_conditions_counts_df['count'])\n",
    "plt.xlabel('Light Conditions')\n",
    "plt.ylabel('Count')\n",
    "plt.title('Distribution of Light Conditions')\n",
    "plt.xticks(rotation=45)\n",
    "plt.show()"
   ]
  },
  {
   "cell_type": "markdown",
   "id": "b1650962",
   "metadata": {},
   "source": [
    "#### Distribution of Light Conditions:\n",
    "\n",
    "#### The bar plot displays the distribution of light conditions during accidents.\n",
    "#### Daylight is the most common light condition during accidents, indicating that a significant number of accidents occur during daytime hours when visibility is generally good.\n",
    "#### Darkness - lights lit and \"Darkness - lights unlit\" are the next most frequent light conditions, suggesting that accidents also occur during nighttime hours."
   ]
  },
  {
   "cell_type": "markdown",
   "id": "57e19161",
   "metadata": {},
   "source": [
    "#### This project focused on analyzing and visualizing road accident data to gain insights into various aspects such as accident trends, casualty types, pedestrian movement, vehicle types, engine capacity, and vehicle age. By leveraging data visualization techniques, we were able to present the findings in a visually appealing and informative manner and do research about the solution which are:\n",
    "#### Focus on Severe Accidents: While the majority of casualties are categorized as \"slight,\" efforts should be made to reduce the number of serious and fatal accidents. This can involve stricter enforcement of traffic laws, increased penalties for traffic violations, and targeted awareness campaigns on safe driving practices, particularly addressing high-risk behaviors such as speeding, drunk driving, and distracted driving.\n",
    "#### Pedestrian Safety Initiatives: Given the significant involvement of pedestrians in accidents, specific measures should be implemented to enhance pedestrian safety. This includes improving pedestrian crossings, providing adequate sidewalks and footpaths, installing pedestrian-friendly infrastructure such as traffic lights and zebra crossings, and conducting education campaigns to raise awareness among pedestrians and drivers about the importance of pedestrian safety.\n",
    "#### In conclusion, this project provided valuable insights into road accidents and related factors. By analyzing and visualizing the data, we gained a deeper understanding of accident trends, casualty types, pedestrian movement, vehicle types, engine capacity, and vehicle age. These findings can help stakeholders in the transportation and road safety sectors make informed decisions and implement targeted measures to reduce accidents and improve road safety.\n",
    "\n",
    "#### Agiri Ayuba\n"
   ]
  },
  {
   "cell_type": "code",
   "execution_count": null,
   "id": "c0990259",
   "metadata": {},
   "outputs": [],
   "source": []
  }
 ],
 "metadata": {
  "kernelspec": {
   "display_name": "Python 3 (ipykernel)",
   "language": "python",
   "name": "python3"
  },
  "language_info": {
   "codemirror_mode": {
    "name": "ipython",
    "version": 3
   },
   "file_extension": ".py",
   "mimetype": "text/x-python",
   "name": "python",
   "nbconvert_exporter": "python",
   "pygments_lexer": "ipython3",
   "version": "3.9.12"
  }
 },
 "nbformat": 4,
 "nbformat_minor": 5
}
